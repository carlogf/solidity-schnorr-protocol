{
 "cells": [
  {
   "cell_type": "markdown",
   "metadata": {},
   "source": [
    "# Schnorr Protocol\n",
    "\n",
    "We will make a simple implementation of the schnorr protocol\n",
    "\n",
    "We start by defining our Finite Field with a prime $p$ and a generator $g$\n",
    "\n",
    "We define one auxiliary function to get the last digits of the sha256 hash of a string.\n",
    "\n",
    "We implement the protocol in two functions.\n",
    "generateProof generates a proof that the prove knows the discrete logarithm $a$ of a value $A\\in F_p$. We follow the protocol and implement Fiat-Shamir heuristic to emulate the challenge $b$ that the verifier is supposed to send.\n",
    "The output of the function is the public key $A$, the commitment $R$ and the proof $z$.\n",
    "\n",
    "The function that verifies the proof takes as input those exact values and verifies the proof following the protocol."
   ]
  },
  {
   "cell_type": "code",
   "execution_count": 4,
   "metadata": {},
   "outputs": [],
   "source": [
    "p = 0x800000000000011000000000000000000000000000000000000000000000001\n",
    "g = 7 # generator"
   ]
  },
  {
   "cell_type": "code",
   "execution_count": 19,
   "metadata": {},
   "outputs": [],
   "source": [
    "# aux hash function\n",
    "\n",
    "import hashlib\n",
    "def sha256_mod_p(data):\n",
    "    hash_object = hashlib.sha256()\n",
    "\n",
    "    \n",
    "    hash_object.update(data.encode())\n",
    "\n",
    "    sha256_hash = hash_object.hexdigest()\n",
    "    sha256_hash_mod_p = int(sha256_hash, 16)%(p-1)\n",
    "    return sha256_hash_mod_p"
   ]
  },
  {
   "cell_type": "code",
   "execution_count": 6,
   "metadata": {},
   "outputs": [],
   "source": [
    "import random\n",
    "\n",
    "\n",
    "def generate_proof():\n",
    "\n",
    "    # The prover chooses its private key\n",
    "    random.seed(42)\n",
    "    a = random.randint(2,p-1) # a = 1009836733293157903490750697761638816704611831659779228157210293632536508831\n",
    "\n",
    "    A = pow(g,a,p)\n",
    "\n",
    "    # Prover chooses a random commitment and hides it\n",
    "    k = random.randint(2,p-1)\n",
    "    R = pow(g, k, p)\n",
    "\n",
    "    # We use Fiat-Shamir heuristic to emulate the verifier challenge b\n",
    "    b = sha256_mod_p(str(g) + str(A) + str(R))\n",
    "\n",
    "    z = (k + b*a)%(p-1)\n",
    "    return A, R, z\n",
    "\n",
    "def verify_proof(A, R, z):\n",
    "\n",
    "    # Fiat-Shamir\n",
    "    b = sha256_mod_p(str(g) + str(A) + str(R))\n",
    "    print(b)\n",
    "\n",
    "    lhs = pow(g, z, p)\n",
    "    rhs = R * pow(A, b, p) %p\n",
    "\n",
    "    return lhs == rhs\n"
   ]
  },
  {
   "cell_type": "code",
   "execution_count": 20,
   "metadata": {},
   "outputs": [
    {
     "name": "stdout",
     "output_type": "stream",
     "text": [
      "The proof is valid\n"
     ]
    }
   ],
   "source": [
    "proof = generate_proof()\n",
    "proof_validity = verify_proof(*proof)\n",
    "if proof_validity:\n",
    "    print(\"The proof is valid\")"
   ]
  },
  {
   "cell_type": "code",
   "execution_count": 21,
   "metadata": {},
   "outputs": [
    {
     "data": {
      "text/plain": [
       "(3193911330048772750163466840708703342603689863347316625363164265906920649196,\n",
       " 3381150360092203933314116350121226761344165239458780575523012581341808801475,\n",
       " 2581178580202173231983361769606702596438937575219053452360943336669012096641)"
      ]
     },
     "execution_count": 21,
     "metadata": {},
     "output_type": "execute_result"
    }
   ],
   "source": [
    "proof"
   ]
  },
  {
   "cell_type": "code",
   "execution_count": null,
   "metadata": {},
   "outputs": [],
   "source": [
    "27417828048169692983411440270675830406092413904797441041903564206699524878711"
   ]
  }
 ],
 "metadata": {
  "kernelspec": {
   "display_name": "my_env",
   "language": "python",
   "name": "python3"
  },
  "language_info": {
   "codemirror_mode": {
    "name": "ipython",
    "version": 3
   },
   "file_extension": ".py",
   "mimetype": "text/x-python",
   "name": "python",
   "nbconvert_exporter": "python",
   "pygments_lexer": "ipython3",
   "version": "3.11.3"
  }
 },
 "nbformat": 4,
 "nbformat_minor": 2
}
